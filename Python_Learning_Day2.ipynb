{
  "nbformat": 4,
  "nbformat_minor": 0,
  "metadata": {
    "colab": {
      "provenance": [],
      "include_colab_link": true
    },
    "kernelspec": {
      "name": "python3",
      "display_name": "Python 3"
    },
    "language_info": {
      "name": "python"
    }
  },
  "cells": [
    {
      "cell_type": "markdown",
      "metadata": {
        "id": "view-in-github",
        "colab_type": "text"
      },
      "source": [
        "<a href=\"https://colab.research.google.com/github/srija747/python/blob/main/Python_Learning_Day2.ipynb\" target=\"_parent\"><img src=\"https://colab.research.google.com/assets/colab-badge.svg\" alt=\"Open In Colab\"/></a>"
      ]
    },
    {
      "cell_type": "markdown",
      "source": [
        "## 1.Difference between the list and tuple?\n",
        "* list - list is mutable we can change the elements of the list\n",
        "* tuple - tuple is immutable we cannot change the elements of the tuple\n",
        "* list - list is constructed using \"[]\" square brackets\n",
        "* tuple - tuple is constructed using \"()\" parentheses"
      ],
      "metadata": {
        "id": "HN6tCq60j2mQ"
      }
    },
    {
      "cell_type": "code",
      "source": [
        "l=[1,2,3]\n",
        "type(l)"
      ],
      "metadata": {
        "id": "Cw8ffkhMk6RQ",
        "colab": {
          "base_uri": "https://localhost:8080/"
        },
        "outputId": "6b24a1c0-1ea0-4ccb-b018-793cbac5c49d"
      },
      "execution_count": null,
      "outputs": [
        {
          "output_type": "execute_result",
          "data": {
            "text/plain": [
              "list"
            ]
          },
          "metadata": {},
          "execution_count": 5
        }
      ]
    },
    {
      "cell_type": "code",
      "source": [
        "t=(1,2,3)\n",
        "type(t)"
      ],
      "metadata": {
        "colab": {
          "base_uri": "https://localhost:8080/"
        },
        "id": "UdngLC3QWr89",
        "outputId": "5713cdd5-d93b-4dda-91fc-d9e463c774d0"
      },
      "execution_count": null,
      "outputs": [
        {
          "output_type": "execute_result",
          "data": {
            "text/plain": [
              "tuple"
            ]
          },
          "metadata": {},
          "execution_count": 6
        }
      ]
    },
    {
      "cell_type": "markdown",
      "source": [
        "## 2.How list is different from an array?\n",
        "* list - list with different datatypes is called list\n",
        "* array - list ith same datatype is called array"
      ],
      "metadata": {
        "id": "uWhJG7hzk6Ov"
      }
    },
    {
      "cell_type": "code",
      "source": [
        "l=[1,1.5,\"hello\",True]\n",
        "print(l)"
      ],
      "metadata": {
        "id": "MowyCcINo4Mn",
        "colab": {
          "base_uri": "https://localhost:8080/"
        },
        "outputId": "53498cda-dbca-4cf5-adbe-588fe9823450"
      },
      "execution_count": null,
      "outputs": [
        {
          "output_type": "stream",
          "name": "stdout",
          "text": [
            "[1, 1.5, 'hello', True]\n"
          ]
        }
      ]
    },
    {
      "cell_type": "code",
      "source": [
        "a=[1,2,3,4]\n",
        "print(a)"
      ],
      "metadata": {
        "colab": {
          "base_uri": "https://localhost:8080/"
        },
        "id": "WlvrKLB_eyoq",
        "outputId": "290b38f7-adcb-47ff-cb63-1a9ed10fd042"
      },
      "execution_count": null,
      "outputs": [
        {
          "output_type": "stream",
          "name": "stdout",
          "text": [
            "[1, 2, 3, 4]\n"
          ]
        }
      ]
    },
    {
      "cell_type": "markdown",
      "source": [],
      "metadata": {
        "id": "1uPEIFbxmQwt"
      }
    },
    {
      "cell_type": "markdown",
      "source": [
        "## 3. Use the python list append(),copy(), clear, count, extends(), index(), insert(), pop(), reverse(), sort(), min(), max(),and sum()"
      ],
      "metadata": {
        "id": "_0Rn7JQSk6M1"
      }
    },
    {
      "cell_type": "code",
      "source": [
        "lis=[1,2,3,4]\n",
        "lis.append(5)\n",
        "print(lis)"
      ],
      "metadata": {
        "colab": {
          "base_uri": "https://localhost:8080/"
        },
        "id": "NspmDDxJg23x",
        "outputId": "f4cb3b19-e466-4cc5-c1bb-6e7e9add1d84"
      },
      "execution_count": null,
      "outputs": [
        {
          "output_type": "stream",
          "name": "stdout",
          "text": [
            "[1, 2, 3, 4, 5]\n"
          ]
        }
      ]
    },
    {
      "cell_type": "code",
      "source": [
        "lis=[1,2,3,4,5,6]\n",
        "print(lis)\n",
        "lis1=lis.copy()\n",
        "print(lis1)"
      ],
      "metadata": {
        "colab": {
          "base_uri": "https://localhost:8080/"
        },
        "id": "DnJSRtczFiyf",
        "outputId": "c9bb3f3f-3b0b-462b-f3d6-3416c6c2081c"
      },
      "execution_count": null,
      "outputs": [
        {
          "output_type": "stream",
          "name": "stdout",
          "text": [
            "[1, 2, 3, 4, 5, 6]\n",
            "[1, 2, 3, 4, 5, 6]\n"
          ]
        }
      ]
    },
    {
      "cell_type": "code",
      "source": [
        "lis=['a','b','c']\n",
        "print(lis)\n",
        "lis.clear()\n",
        "print(lis)"
      ],
      "metadata": {
        "colab": {
          "base_uri": "https://localhost:8080/"
        },
        "id": "u7hDkZeYGdDg",
        "outputId": "fe9ace23-7aa4-4180-f293-59498223b35c"
      },
      "execution_count": null,
      "outputs": [
        {
          "output_type": "stream",
          "name": "stdout",
          "text": [
            "['a', 'b', 'c']\n",
            "[]\n"
          ]
        }
      ]
    },
    {
      "cell_type": "code",
      "source": [
        "lis=['a','b','c','d','d','d','d']\n",
        "print(lis.count('d'))"
      ],
      "metadata": {
        "colab": {
          "base_uri": "https://localhost:8080/"
        },
        "id": "SMwsskaPG01I",
        "outputId": "ce4827ee-11ab-4c43-acba-6383cfa8d6b1"
      },
      "execution_count": null,
      "outputs": [
        {
          "output_type": "stream",
          "name": "stdout",
          "text": [
            "4\n"
          ]
        }
      ]
    },
    {
      "cell_type": "code",
      "source": [
        "lis1=['a','b','c']\n",
        "lis2=['1','2','3']\n",
        "lis1.extend(lis2)\n",
        "print(lis1)"
      ],
      "metadata": {
        "colab": {
          "base_uri": "https://localhost:8080/"
        },
        "id": "kYZbL8A5HhNm",
        "outputId": "04f53438-1331-4c1f-9417-e124ab2da23e"
      },
      "execution_count": null,
      "outputs": [
        {
          "output_type": "stream",
          "name": "stdout",
          "text": [
            "['a', 'b', 'c', '1', '2', '3']\n"
          ]
        }
      ]
    },
    {
      "cell_type": "code",
      "source": [
        "lis=['s','r','i','j','a']\n",
        "r=lis.index('a')\n",
        "print(r)"
      ],
      "metadata": {
        "colab": {
          "base_uri": "https://localhost:8080/"
        },
        "id": "piqrbgU_ILGp",
        "outputId": "1c7fc1f9-f9fd-4a0e-df20-7883fdf61438"
      },
      "execution_count": null,
      "outputs": [
        {
          "output_type": "stream",
          "name": "stdout",
          "text": [
            "4\n"
          ]
        }
      ]
    },
    {
      "cell_type": "code",
      "source": [
        "lis=[\"hello\",\"friends\"]\n",
        "lis.insert(2,\"good evening\")\n",
        "print(lis)"
      ],
      "metadata": {
        "colab": {
          "base_uri": "https://localhost:8080/"
        },
        "id": "88RmxYYrIgAR",
        "outputId": "97b0ab5c-81aa-4d20-ae72-f605507dd82d"
      },
      "execution_count": null,
      "outputs": [
        {
          "output_type": "stream",
          "name": "stdout",
          "text": [
            "['hello', 'friends', 'good evening']\n"
          ]
        }
      ]
    },
    {
      "cell_type": "code",
      "source": [
        "lis=[1,2,3,4,9,7]\n",
        "lis.pop(5)\n",
        "print(lis)"
      ],
      "metadata": {
        "colab": {
          "base_uri": "https://localhost:8080/"
        },
        "id": "jgXuvN03JsV1",
        "outputId": "32b8af34-d483-47bb-8358-e6ad1d718281"
      },
      "execution_count": null,
      "outputs": [
        {
          "output_type": "stream",
          "name": "stdout",
          "text": [
            "[1, 2, 3, 4, 9]\n"
          ]
        }
      ]
    },
    {
      "cell_type": "code",
      "source": [
        "lis=[1,2,3,4,5]\n",
        "lis.reverse()\n",
        "print(lis)"
      ],
      "metadata": {
        "colab": {
          "base_uri": "https://localhost:8080/"
        },
        "id": "vVYet7_qKdDM",
        "outputId": "810c44b0-4144-4e43-dba8-8ece60cba62f"
      },
      "execution_count": null,
      "outputs": [
        {
          "output_type": "stream",
          "name": "stdout",
          "text": [
            "[5, 4, 3, 2, 1]\n"
          ]
        }
      ]
    },
    {
      "cell_type": "code",
      "source": [
        "lis=[9,7,10,1,4,3,2]\n",
        "lis.sort()\n",
        "print(lis)"
      ],
      "metadata": {
        "colab": {
          "base_uri": "https://localhost:8080/"
        },
        "id": "J9aQx0agKc_8",
        "outputId": "d3afc857-e640-496b-b81e-dfbaa1880fec"
      },
      "execution_count": null,
      "outputs": [
        {
          "output_type": "stream",
          "name": "stdout",
          "text": [
            "[1, 2, 3, 4, 7, 9, 10]\n"
          ]
        }
      ]
    },
    {
      "cell_type": "code",
      "source": [
        "lis=[1,2,3,4,5]\n",
        "a=min(lis)\n",
        "print(a)"
      ],
      "metadata": {
        "colab": {
          "base_uri": "https://localhost:8080/"
        },
        "id": "TLJ8JKN9K-My",
        "outputId": "42a69007-c307-479c-fecb-b88487b3ac59"
      },
      "execution_count": null,
      "outputs": [
        {
          "output_type": "stream",
          "name": "stdout",
          "text": [
            "1\n"
          ]
        }
      ]
    },
    {
      "cell_type": "code",
      "source": [
        "lis=[1,2,3,4,5]\n",
        "a=max(lis)\n",
        "print(a)"
      ],
      "metadata": {
        "colab": {
          "base_uri": "https://localhost:8080/"
        },
        "id": "zxTbBa8tLSDz",
        "outputId": "9eeda087-62ed-4447-9611-8d7a2d11999b"
      },
      "execution_count": null,
      "outputs": [
        {
          "output_type": "stream",
          "name": "stdout",
          "text": [
            "5\n"
          ]
        }
      ]
    },
    {
      "cell_type": "code",
      "source": [
        "lis=[1,2,3,4]\n",
        "a=sum(lis)\n",
        "print(a)"
      ],
      "metadata": {
        "colab": {
          "base_uri": "https://localhost:8080/"
        },
        "id": "44VPvrKeLaII",
        "outputId": "07a8d03e-9a3b-4ac6-b397-dfeb042bbe09"
      },
      "execution_count": null,
      "outputs": [
        {
          "output_type": "stream",
          "name": "stdout",
          "text": [
            "10\n"
          ]
        }
      ]
    },
    {
      "cell_type": "markdown",
      "source": [
        "## 4, How would you divide the list into two parts?"
      ],
      "metadata": {
        "id": "W9xfjUWak6J_"
      }
    },
    {
      "cell_type": "code",
      "source": [
        "lis=[1,2,3,4,5]\n",
        "l1=lis[len(lis)//2:]\n",
        "l2=lis[:len(lis)//2]\n",
        "print(l1)\n",
        "print(l2)"
      ],
      "metadata": {
        "colab": {
          "base_uri": "https://localhost:8080/"
        },
        "id": "7EG-RM0SP_IT",
        "outputId": "1a88bc17-b270-497e-e851-ba7fbc217be0"
      },
      "execution_count": null,
      "outputs": [
        {
          "output_type": "stream",
          "name": "stdout",
          "text": [
            "[3, 4, 5]\n",
            "[1, 2]\n"
          ]
        }
      ]
    },
    {
      "cell_type": "markdown",
      "source": [
        "## 5. how to filter the multiple of 3 from a given list and them remove the odd number from the new filtered list.\n",
        "Eg A = [1,2,3,4,5,6,7,8,9,21,23,24]\n",
        "Filter_lsit = [3,6,9,21,24]\n",
        "output_list = [6,24]"
      ],
      "metadata": {
        "id": "Qb1mVGfnk6G5"
      }
    },
    {
      "cell_type": "code",
      "source": [
        "a=[1,2,3,4,5,6,7,8,21,23,24]\n",
        "b=[i for i in a if i%3 == 0]\n",
        "print(b)\n",
        "c=[j for j in b if j%2==0]\n",
        "print(c)"
      ],
      "metadata": {
        "colab": {
          "base_uri": "https://localhost:8080/"
        },
        "id": "fA1d2RE1ODJ8",
        "outputId": "7e99df45-e640-4b39-de7c-7f37d2fbc4e1"
      },
      "execution_count": null,
      "outputs": [
        {
          "output_type": "stream",
          "name": "stdout",
          "text": [
            "[3, 6, 21, 24]\n",
            "[6, 24]\n"
          ]
        }
      ]
    },
    {
      "cell_type": "markdown",
      "source": [
        "## 6. How you can access keys and values simultaneously and update its value"
      ],
      "metadata": {
        "id": "auhYyjixk6FD"
      }
    },
    {
      "cell_type": "code",
      "source": [
        "k={1:'a',2:'b',3:'c',4:'d'}\n",
        "p={1:'d',2:'c',3:'b',1:'a'}\n",
        "for key,value in k.items():\n",
        "  print(key,value)\n",
        "print(\"now updating the values:\")\n",
        "for i,j in k.items():\n",
        "  j=chr(97+i)\n",
        "  print(i,j)"
      ],
      "metadata": {
        "id": "MUJgklChQzXP",
        "colab": {
          "base_uri": "https://localhost:8080/"
        },
        "outputId": "a2b4b675-4983-4820-c705-042859dd52a0"
      },
      "execution_count": null,
      "outputs": [
        {
          "output_type": "stream",
          "name": "stdout",
          "text": [
            "1 a\n",
            "2 b\n",
            "3 c\n",
            "4 d\n",
            "now updating the values:\n",
            "1 b\n",
            "2 c\n",
            "3 d\n",
            "4 e\n"
          ]
        }
      ]
    },
    {
      "cell_type": "code",
      "source": [
        "p={1:'d',2:'c',3:'b',1:'a'}\n",
        "k={1:'a',2:'b',3:'c',4:'d'}\n",
        "p.update(k)\n",
        "print(p)"
      ],
      "metadata": {
        "colab": {
          "base_uri": "https://localhost:8080/"
        },
        "id": "wdb-sagYuvzv",
        "outputId": "55d8b4b0-1147-43c2-992f-4ca33d5d11e4"
      },
      "execution_count": null,
      "outputs": [
        {
          "output_type": "stream",
          "name": "stdout",
          "text": [
            "{1: 'a', 2: 'b', 3: 'c', 4: 'd'}\n"
          ]
        }
      ]
    },
    {
      "cell_type": "markdown",
      "source": [
        "## 7. Write python program to join, merge, concatente the two dictionaries..\n"
      ],
      "metadata": {
        "id": "vV00n0awk5_G"
      }
    },
    {
      "cell_type": "code",
      "source": [
        "a={1:'a',2:'b',3:'c',4:'d'}\n",
        "b={5:'e',6:'f',7:'g'}\n",
        "a.update(b)\n",
        "print(a)"
      ],
      "metadata": {
        "colab": {
          "base_uri": "https://localhost:8080/"
        },
        "id": "qdQwEXWblefo",
        "outputId": "6a16a98c-5f7e-4aa7-f07c-09a07d379189"
      },
      "execution_count": null,
      "outputs": [
        {
          "output_type": "stream",
          "name": "stdout",
          "text": [
            "{1: 'a', 2: 'b', 3: 'c', 4: 'd', 5: 'e', 6: 'f', 7: 'g'}\n"
          ]
        }
      ]
    },
    {
      "cell_type": "markdown",
      "source": [
        "## 8. How would you check a specific keys from the dictionary??\n"
      ],
      "metadata": {
        "id": "Z_7dpypWnQ-z"
      }
    },
    {
      "cell_type": "code",
      "source": [
        "a={1:'a',2:'b',3:'c'}\n",
        "for i in a:\n",
        "  print(a[i])"
      ],
      "metadata": {
        "colab": {
          "base_uri": "https://localhost:8080/"
        },
        "id": "gPqGSH4t1AZP",
        "outputId": "d6b766d5-ac9d-4486-bd78-d60dc9c0e99a"
      },
      "execution_count": null,
      "outputs": [
        {
          "output_type": "stream",
          "name": "stdout",
          "text": [
            "enter2\n",
            "a\n",
            "b\n",
            "c\n"
          ]
        }
      ]
    },
    {
      "cell_type": "markdown",
      "source": [
        "## 9. write a python program to find the unique vowel present in the sentence"
      ],
      "metadata": {
        "id": "EjxeB4ntnirH"
      }
    },
    {
      "cell_type": "code",
      "source": [
        "def co(s,v):\n",
        "    count=dict.fromkeys(v,0)\n",
        "    for i in s:\n",
        "        if i in count:\n",
        "            count[i]+=1\n",
        "    print(count)\n",
        "    m=list(count.keys())\n",
        "    n=list(count.values())\n",
        "    print(m)\n",
        "    print(n)\n",
        "    for k in range(0,len(m)):\n",
        "        if n[k] == 1 :\n",
        "            print(m[k])\n",
        "\n",
        "v='aeioeAEIOU'\n",
        "s='vishnu vardhan'\n",
        "co(s,v)\n",
        "\n",
        "\n"
      ],
      "metadata": {
        "id": "V3s-F9pSHAbh",
        "colab": {
          "base_uri": "https://localhost:8080/"
        },
        "outputId": "dd41e1d3-2843-4161-a35a-5361c3b4000c"
      },
      "execution_count": null,
      "outputs": [
        {
          "output_type": "stream",
          "name": "stdout",
          "text": [
            "{'a': 2, 'e': 0, 'i': 1, 'o': 0, 'A': 0, 'E': 0, 'I': 0, 'O': 0, 'U': 0}\n",
            "['a', 'e', 'i', 'o', 'A', 'E', 'I', 'O', 'U']\n",
            "[2, 0, 1, 0, 0, 0, 0, 0, 0]\n",
            "i\n"
          ]
        }
      ]
    },
    {
      "cell_type": "markdown",
      "source": [
        "## 10. We know that tuple is immutable, do any thing and add element to the tuples."
      ],
      "metadata": {
        "id": "B1VBImcfns6V"
      }
    },
    {
      "cell_type": "code",
      "source": [
        "t1=(1,2,3,4)\n",
        "t2=(5,6,7)\n",
        "t3=t1+t2\n",
        "print(t3)"
      ],
      "metadata": {
        "id": "U6brR1rJauRN",
        "colab": {
          "base_uri": "https://localhost:8080/"
        },
        "outputId": "27bb533d-8887-494f-db65-874c8cc1d078"
      },
      "execution_count": 19,
      "outputs": [
        {
          "output_type": "stream",
          "name": "stdout",
          "text": [
            "(1, 2, 3, 4, 5, 6, 7)\n"
          ]
        }
      ]
    },
    {
      "cell_type": "code",
      "source": [
        "t=(1,2,3,4)\n",
        "l=list(t)\n",
        "l.append(5)\n",
        "t=tuple(l)\n",
        "print(t)"
      ],
      "metadata": {
        "colab": {
          "base_uri": "https://localhost:8080/"
        },
        "id": "eiuUgwJkpFTQ",
        "outputId": "8fcaccd3-bd23-40bf-e25b-19fcd554071d"
      },
      "execution_count": 23,
      "outputs": [
        {
          "output_type": "stream",
          "name": "stdout",
          "text": [
            "(1, 2, 3, 4, 5)\n"
          ]
        }
      ]
    },
    {
      "cell_type": "markdown",
      "source": [
        "## 11. How would you sum the list of tuple and sum of tuple of list\n",
        "list  = [(2,3),(4,5),(6,4)]\n",
        "output= [5,9,10]\n",
        "\n",
        "tuple  =([2,3],[4,5],[6,4])\n",
        "output  =  (5,9,10)"
      ],
      "metadata": {
        "id": "Yd7tDQHuoGFm"
      }
    },
    {
      "cell_type": "code",
      "source": [
        "l=[(2,3),(4,5),(6,4)]\n",
        "l1=[]\n",
        "r=0\n",
        "for i in l:\n",
        "  for j in i:\n",
        "    r=r+j\n",
        "  l1.append(r)\n",
        "  r=0\n",
        "print(l1)\n",
        "t=([2,3],[4,5],[6,4])\n",
        "t2=()\n",
        "lis=list(t2)\n",
        "p=0\n",
        "for m in t:\n",
        "  for n in m:\n",
        "    p=p+n\n",
        "  lis.append(p)\n",
        "  p=0\n",
        "t2=tuple(lis)\n",
        "print(t2)"
      ],
      "metadata": {
        "id": "3-3ViKtPT4Md",
        "colab": {
          "base_uri": "https://localhost:8080/"
        },
        "outputId": "debd0768-645c-448b-f596-1fe5fe0d234f"
      },
      "execution_count": 35,
      "outputs": [
        {
          "output_type": "stream",
          "name": "stdout",
          "text": [
            "[5, 9, 10]\n",
            "(5, 9, 10)\n"
          ]
        }
      ]
    },
    {
      "cell_type": "markdown",
      "source": [
        "## 12. FIND THE FREQUENCY OF THE KEYS IN THE GIVEN DICTIONARY"
      ],
      "metadata": {
        "id": "YiXg_vDpoq7X"
      }
    },
    {
      "cell_type": "code",
      "source": [
        "a={1:'a',2:'b',3:'c'}\n",
        "l1=list(a.keys())\n",
        "r=0\n",
        "l2=list(a.values())\n",
        "l3=[]\n",
        "for i in l1:\n",
        "  r=l1.count(i)\n",
        "  l3.append(r)\n",
        "d=dict(zip(l1,l3))\n",
        "print(d)"
      ],
      "metadata": {
        "id": "ItylLeryL37w",
        "colab": {
          "base_uri": "https://localhost:8080/"
        },
        "outputId": "ad74e124-b241-4880-8ca4-2ebee4f72fad"
      },
      "execution_count": 54,
      "outputs": [
        {
          "output_type": "stream",
          "name": "stdout",
          "text": [
            "[1, 1, 1]\n",
            "{1: 1, 2: 1, 3: 1}\n"
          ]
        }
      ]
    }
  ]
}