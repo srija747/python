{
  "cells": [
    {
      "cell_type": "markdown",
      "metadata": {
        "id": "view-in-github",
        "colab_type": "text"
      },
      "source": [
        "<a href=\"https://colab.research.google.com/github/srija747/python/blob/main/Python_learning_Day1_Assessment.ipynb\" target=\"_parent\"><img src=\"https://colab.research.google.com/assets/colab-badge.svg\" alt=\"Open In Colab\"/></a>"
      ]
    },
    {
      "cell_type": "markdown",
      "metadata": {
        "id": "eh5Ph74_HqpD"
      },
      "source": [
        "## how would you confimm that two strings have the same identity?"
      ]
    },
    {
      "cell_type": "code",
      "execution_count": null,
      "metadata": {
        "colab": {
          "base_uri": "https://localhost:8080/"
        },
        "id": "oERbt__VktUg",
        "outputId": "db81f57b-f4dd-43eb-9ae7-31f7e0041051"
      },
      "outputs": [
        {
          "output_type": "stream",
          "name": "stdout",
          "text": [
            "Enter the str1:srija\n",
            "Enter the str2:srija\n",
            "a and b have same identity\n"
          ]
        }
      ],
      "source": [
        "a=input(\"Enter the str1:\")\n",
        "b=input(\"Enter the str2:\")\n",
        "if a==b:\n",
        "  print(\"a and b have same identity\")\n",
        "else:\n",
        "  print(\"a and b don't have same identity\")"
      ]
    },
    {
      "cell_type": "code",
      "execution_count": null,
      "metadata": {
        "id": "fAJ6UCYeRkRF"
      },
      "outputs": [],
      "source": []
    },
    {
      "cell_type": "markdown",
      "metadata": {
        "id": "xSfXJRgVHKOB"
      },
      "source": [
        "How to find the length and index of the string?"
      ]
    },
    {
      "cell_type": "code",
      "execution_count": null,
      "metadata": {
        "colab": {
          "base_uri": "https://localhost:8080/"
        },
        "id": "cuEJ9hZ_S4df",
        "outputId": "562295a8-0e94-43eb-c0ee-78390b97aa30"
      },
      "outputs": [
        {
          "output_type": "stream",
          "name": "stdout",
          "text": [
            "Enter the str:srija\n",
            "length of str is:  5\n",
            "Enter the substring to find indexi\n",
            "index of substring is:  2\n"
          ]
        }
      ],
      "source": [
        "x=input(\"Enter the str:\")\n",
        "print(\"length of str is: \",len(x))\n",
        "y=input(\"Enter the substring to find index\")\n",
        "print(\"index of substring is: \",x.find(y))"
      ]
    },
    {
      "cell_type": "markdown",
      "metadata": {
        "id": "EGK-LzalIO_i"
      },
      "source": [
        "## how to check a string contain a specific substring"
      ]
    },
    {
      "cell_type": "code",
      "execution_count": null,
      "metadata": {
        "colab": {
          "base_uri": "https://localhost:8080/"
        },
        "id": "g1HYIC9gJ7Vi",
        "outputId": "4a9a1cdb-f4a2-4a75-9f64-c2e4cf0ff472"
      },
      "outputs": [
        {
          "output_type": "stream",
          "name": "stdout",
          "text": [
            "Enter the string: srija\n",
            "Enter the substring: ij\n",
            "substring is present in string\n"
          ]
        }
      ],
      "source": [
        "v=input(\"Enter the string: \")\n",
        "u=input(\"Enter the substring: \")\n",
        "if u in v:\n",
        "  print(\"substring is present in string\")\n",
        "else:\n",
        "  print(\"substring is not present in string\")"
      ]
    },
    {
      "cell_type": "markdown",
      "metadata": {
        "id": "LmY6RXjoJF9h"
      },
      "source": [
        "## how to a take a string from backward with two step difference?\n"
      ]
    },
    {
      "cell_type": "code",
      "execution_count": null,
      "metadata": {
        "colab": {
          "base_uri": "https://localhost:8080/"
        },
        "id": "_C_pqVqBJ8AA",
        "outputId": "ea04e0f6-c857-4004-8388-f75d01565fc0"
      },
      "outputs": [
        {
          "output_type": "stream",
          "name": "stdout",
          "text": [
            "Ener the stringsrija\n",
            "Original string: srija\n",
            "Result string: ais\n"
          ]
        }
      ],
      "source": [
        "s=input(\"Ener the string\")\n",
        "\n",
        "r= s[::-2]\n",
        "\n",
        "print(\"Original string:\", s)\n",
        "print(\"Result string:\", r)"
      ]
    },
    {
      "cell_type": "markdown",
      "metadata": {
        "id": "7eg6JfyuJr_2"
      },
      "source": [
        "## how to find the index of the last element"
      ]
    },
    {
      "cell_type": "code",
      "execution_count": null,
      "metadata": {
        "colab": {
          "base_uri": "https://localhost:8080/"
        },
        "id": "T84ODp77J8zR",
        "outputId": "fbc367af-8dd8-4ec2-e3cb-c69b0bdd3481"
      },
      "outputs": [
        {
          "output_type": "stream",
          "name": "stdout",
          "text": [
            "Enter the str: srija\n",
            "Index of last element is 4\n"
          ]
        }
      ],
      "source": [
        "p=input(\"Enter the str: \")\n",
        "print(\"Index of last element is\", len(s)-1 )"
      ]
    },
    {
      "cell_type": "markdown",
      "metadata": {
        "id": "FTdxvLc1J0lv"
      },
      "source": [
        "## Write 2 ways to concatinate the string"
      ]
    },
    {
      "cell_type": "code",
      "execution_count": null,
      "metadata": {
        "id": "j8P9ODeTJ9Zz",
        "colab": {
          "base_uri": "https://localhost:8080/"
        },
        "outputId": "40450df4-084f-4e16-8816-c6681f22f29f"
      },
      "outputs": [
        {
          "output_type": "stream",
          "name": "stdout",
          "text": [
            "Hello everyone Good evening\n"
          ]
        }
      ],
      "source": [
        "a=\"Hello everyone\"\n",
        "b=\"Good evening\"\n",
        "print(a+\" \"+b)"
      ]
    },
    {
      "cell_type": "code",
      "source": [
        "s1=\"Hello\"\n",
        "s2=\"Have a good day\"\n",
        "s=f'{s1} everyone {s2}'\n",
        "print(s)"
      ],
      "metadata": {
        "colab": {
          "base_uri": "https://localhost:8080/"
        },
        "id": "DB0yY-cUrhSl",
        "outputId": "e0f291f5-5668-4b56-c366-0cd324fcb00f"
      },
      "execution_count": null,
      "outputs": [
        {
          "output_type": "stream",
          "name": "stdout",
          "text": [
            "Hello everyone Have a good day\n"
          ]
        }
      ]
    }
  ],
  "metadata": {
    "colab": {
      "provenance": [],
      "include_colab_link": true
    },
    "kernelspec": {
      "display_name": "Python 3",
      "name": "python3"
    },
    "language_info": {
      "name": "python"
    }
  },
  "nbformat": 4,
  "nbformat_minor": 0
}