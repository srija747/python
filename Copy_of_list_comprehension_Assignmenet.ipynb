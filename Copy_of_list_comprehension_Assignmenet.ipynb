{
  "nbformat": 4,
  "nbformat_minor": 0,
  "metadata": {
    "colab": {
      "provenance": [],
      "include_colab_link": true
    },
    "kernelspec": {
      "name": "python3",
      "display_name": "Python 3"
    },
    "language_info": {
      "name": "python"
    }
  },
  "cells": [
    {
      "cell_type": "markdown",
      "metadata": {
        "id": "view-in-github",
        "colab_type": "text"
      },
      "source": [
        "<a href=\"https://colab.research.google.com/github/srija747/python/blob/main/Copy_of_list_comprehension_Assignmenet.ipynb\" target=\"_parent\"><img src=\"https://colab.research.google.com/assets/colab-badge.svg\" alt=\"Open In Colab\"/></a>"
      ]
    },
    {
      "cell_type": "markdown",
      "source": [],
      "metadata": {
        "id": "KZ91_NegViLz"
      }
    },
    {
      "cell_type": "markdown",
      "source": [
        "## problem 1\n",
        "Create a dictionary where the keys correspond to the area of a flat adn value for each is the price of the house for 10 flat in kompally"
      ],
      "metadata": {
        "id": "B1Fhdmi9V3LI"
      }
    },
    {
      "cell_type": "code",
      "source": [
        "# Dictionary of house area and house prices of 10 houses in\n",
        "#HInt: area_price = {area:price}\n",
        "area_price={\n",
        "    1700:170000,\n",
        "    1500:150000,\n",
        "    1800:180000,\n",
        "    2000:200000,\n",
        "    2500:250000,\n",
        "    3000:300000,\n",
        "    780:78000,\n",
        "    920:92000,\n",
        "    4000:400000,\n",
        "    1200:120000,\n",
        "}\n",
        "for i in area_price:\n",
        "  print(\"area\",\":\",i,\" \",\"price\",\":\",area_price[i])"
      ],
      "metadata": {
        "id": "zihWmw3NWXQX",
        "colab": {
          "base_uri": "https://localhost:8080/"
        },
        "outputId": "515f7f7b-6e68-45bc-f2a7-385782714f3f"
      },
      "execution_count": null,
      "outputs": [
        {
          "output_type": "stream",
          "name": "stdout",
          "text": [
            "area : 1700   price : 170000\n",
            "area : 1500   price : 150000\n",
            "area : 1800   price : 180000\n",
            "area : 2000   price : 200000\n",
            "area : 2500   price : 250000\n",
            "area : 3000   price : 300000\n",
            "area : 780   price : 78000\n",
            "area : 920   price : 92000\n",
            "area : 4000   price : 400000\n",
            "area : 1200   price : 120000\n"
          ]
        }
      ]
    },
    {
      "cell_type": "markdown",
      "source": [
        "### Now broker predicts the price as can be written as : <b><code>predicted_price(area) = 0.06*area + 15</code></b>"
      ],
      "metadata": {
        "id": "JI2jaDf8Wp2D"
      }
    },
    {
      "cell_type": "markdown",
      "source": [
        "Using the concept of list comprehension,create a list of predicted flat price using the above formula\n"
      ],
      "metadata": {
        "id": "v_K_Z8dtW6-D"
      }
    },
    {
      "cell_type": "code",
      "source": [
        "# Create a list of house areas\n",
        "ha=list(area_price.keys())\n",
        "\n",
        "# Use list comprehension to store the predicted house prices in a list\n",
        "p_price=[0.06*a+15 for a in ha]\n",
        "\n",
        "# Print the list of predicted flat prices\n",
        "print(\"prdiced_price\",p_price)"
      ],
      "metadata": {
        "id": "F732P6DHXVYH",
        "colab": {
          "base_uri": "https://localhost:8080/"
        },
        "outputId": "ea42aee8-780e-46ed-a27b-7211879526aa"
      },
      "execution_count": null,
      "outputs": [
        {
          "output_type": "stream",
          "name": "stdout",
          "text": [
            "prdiced_price [117.0, 105.0, 123.0, 135.0, 165.0, 195.0, 61.8, 70.19999999999999, 255.0, 87.0]\n"
          ]
        }
      ]
    },
    {
      "cell_type": "markdown",
      "source": [
        "## Create another list which contains the squares of differences of each element of the two price lists : the actual prices and the predicted prices\n"
      ],
      "metadata": {
        "id": "-ZrRO78DXZq6"
      }
    },
    {
      "cell_type": "code",
      "source": [
        "a_price=list(area_price.values())\n",
        "#n_list=[]\n",
        "n_list=[(a_price[i]-p_price[i])**2 for i in range(0,len(a_price))]\n",
        "  #l=(a_price[i]-p_price[i])**2\n",
        "  #n_list.append(l)\n",
        "print(n_list)"
      ],
      "metadata": {
        "id": "dEpxZqK7XzeD",
        "colab": {
          "base_uri": "https://localhost:8080/"
        },
        "outputId": "0f8ad904-9e4c-4975-bf23-c01b3e90b81e"
      },
      "execution_count": null,
      "outputs": [
        {
          "output_type": "stream",
          "name": "stdout",
          "text": [
            "[28860233689.0, 22468511025.0, 32355735129.0, 39946018225.0, 62417527225.0, 89883038025.0, 6074363019.24, 8451088128.040001, 159796065025.0, 14379127569.0]\n"
          ]
        }
      ]
    },
    {
      "cell_type": "markdown",
      "source": [
        "## <u> Problem 2</u>\n",
        "\n",
        "## A sigmoid function is a mathematical function having a characteristic \"S\"-shaped curve or sigmoid curve. A common example of a sigmoid function is the logistic function shown in the first figure and defined by the formula:\n",
        "\n",
        "$$ h(x) =  \\frac{\\mathrm{1} }{\\mathrm{1} + e^{-x} }  $$\n",
        "\n",
        "\n",
        "## Range is defined as all the possible values which the function $h(x)$ can take. Domain is defined as all the possible values which $x$ can take. In this case, range of the function is between 0 to 1 and the domain of the function is all real numbers"
      ],
      "metadata": {
        "id": "PEC_OtXRXrCg"
      }
    },
    {
      "cell_type": "markdown",
      "source": [
        "### You are given a list of values of $x$. You need to use list comprehension to calculate the corresponding transformation according to the sigmoid function defined above"
      ],
      "metadata": {
        "id": "YZCTres_XsB0"
      }
    },
    {
      "cell_type": "code",
      "source": [
        "# Return a list of boolean values if the sigmoid_of_x is greater than or equal to 0 and less than or equal to 1\n",
        "import math\n",
        "l=[1,2,3,4,5]\n",
        "r=[1/(1+math.exp(-i)) for i in l]\n",
        "r1=[]\n",
        "# Create a list of those values which are greater than 0.5\n",
        "for i in r:\n",
        "  if i>0.5:\n",
        "    r1.append(i)\n",
        "print(r1)"
      ],
      "metadata": {
        "id": "TmYb4SluYC4S",
        "colab": {
          "base_uri": "https://localhost:8080/"
        },
        "outputId": "aa69d40b-76d1-47c5-ce34-b4745e590c14"
      },
      "execution_count": 3,
      "outputs": [
        {
          "output_type": "stream",
          "name": "stdout",
          "text": [
            "[0.7310585786300049, 0.8807970779778823, 0.9525741268224334, 0.9820137900379085, 0.9933071490757153]\n"
          ]
        }
      ]
    },
    {
      "cell_type": "markdown",
      "source": [
        "# <u> Problem 3</u>\n",
        "\n",
        "## You are given a sentence : <code>\"I have been walking and running and dancing and smiling and laughing all my life, yet it all seems pointless. So i stoped thinking and started doing\"</code>\n",
        "\n",
        "## You are required to extract all those words from this sentence in a list which ends with <code>ing</code>"
      ],
      "metadata": {
        "id": "j31JnVUtYNU-"
      }
    },
    {
      "cell_type": "code",
      "source": [
        "# Your sentence\n",
        "my_sentence = \"I have been walking and running and dancing and smiling and laughing all my life, yet it all seems pointless. So i stoped thinking and started doing\"\n",
        "id=0\n",
        "l=[]\n",
        "nl=[]\n",
        "for i in range(0,len(my_sentence)):\n",
        "  if my_sentence[i]==\" \":\n",
        "    a=my_sentence[id:i]\n",
        "    l.append(a)\n",
        "    id=i\n",
        "l.append(my_sentence[id:len(my_sentence)])\n",
        "for j in l:\n",
        "  if \"ing\" in j:\n",
        "    nl.append(j)\n",
        "print(nl)"
      ],
      "metadata": {
        "id": "8s6rFnH2YO1z",
        "colab": {
          "base_uri": "https://localhost:8080/"
        },
        "outputId": "f9a657f9-fd7e-412b-a8ff-12a01e1d403c"
      },
      "execution_count": 22,
      "outputs": [
        {
          "output_type": "stream",
          "name": "stdout",
          "text": [
            "[' walking', ' running', ' dancing', ' smiling', ' laughing', ' thinking', ' doing']\n"
          ]
        }
      ]
    },
    {
      "cell_type": "markdown",
      "source": [
        "# <u> Problem 4</u>\n",
        "\n",
        "#### Natural Language Processing or NLP is one of the most promising fields in Machine Learning. Most of the times in NLP we deal with the textual data (a bunch of strings). Sometimes when we are processing the text, it is a common practice to get rid of some set of stop words from our original text. By default stop words are very common words used in English language such as and, or, punctuations etc.\n",
        "\n",
        "#### In this exercise, you are provided with a default set of stop words and you need to add some extra set of custom words and remove these words from the given sentence and obtain the sentence without the stop words"
      ],
      "metadata": {
        "id": "rYwInhGlYOyz"
      }
    },
    {
      "cell_type": "code",
      "source": [
        "# A sample sentence\n",
        "s=\"hello everyone i hope you all are doing well\"\n",
        "# Print your sentence\n",
        "print(s)"
      ],
      "metadata": {
        "id": "b86yHqHEYOpp",
        "colab": {
          "base_uri": "https://localhost:8080/"
        },
        "outputId": "8a31e597-4c73-4fe7-994e-441b4b5764e2"
      },
      "execution_count": 23,
      "outputs": [
        {
          "output_type": "stream",
          "name": "stdout",
          "text": [
            "hello everyone i hope you all are doing well\n"
          ]
        }
      ]
    },
    {
      "cell_type": "code",
      "source": [
        "# Default set of stop words\n",
        "stop_words = {\"i\", \"me\", \"my\", \"myself\", \"we\", \"our\", \"ours\", \"ourselves\", \"you\", \"your\", \"yours\", \"yourself\",\n",
        "              \"yourselves\", \"he\", \"him\", \"his\", \"himself\", \"she\", \"her\", \"hers\", \"herself\", \"it\", \"its\", \"itself\",\n",
        "              \"they\", \"them\", \"their\", \"theirs\", \"themselves\", \"what\", \"which\", \"who\", \"whom\", \"this\", \"that\",\n",
        "              \"these\", \"those\", \"am\", \"is\", \"are\", \"was\", \"were\", \"be\", \"been\", \"being\", \"have\", \"has\", \"had\",\n",
        "              \"having\", \"do\", \"does\", \"did\", \"doing\", \"a\", \"an\", \"the\", \"and\", \"but\", \"if\", \"or\", \"because\",\n",
        "              \"as\", \"until\", \"while\", \"of\", \"at\", \"by\", \"for\", \"with\", \"about\", \"against\", \"between\", \"into\",\n",
        "              \"through\", \"during\", \"before\", \"after\", \"above\", \"below\", \"to\", \"from\", \"up\", \"down\", \"in\", \"out\",\n",
        "              \"on\", \"off\", \"over\", \"under\", \"again\", \"further\", \"then\", \"once\", \"here\", \"there\", \"when\", \"where\",\n",
        "              \"why\", \"how\", \"all\", \"any\", \"both\", \"each\", \"few\", \"more\", \"most\", \"other\", \"some\", \"such\", \"no\",\n",
        "              \"nor\", \"not\", \"only\", \"own\", \"same\", \"so\", \"than\", \"too\", \"very\", \"s\", \"t\", \"can\", \"will\", \"just\",\n",
        "              \"don\", \"should\", \"now\"}"
      ],
      "metadata": {
        "id": "RbyJscXWYh0z"
      },
      "execution_count": 31,
      "outputs": []
    },
    {
      "cell_type": "code",
      "source": [
        "\n",
        "custom_stop_words = [\"hello\",\"folks\",\"good\",\"morning\",\"half\",\"year\"]\n",
        "# Update the set of stop words by adding the custom stop words\n",
        "custom_stop_words=set(custom_stop_words)\n",
        "stop_words.update(custom_stop_words)\n",
        "print(stop_words)"
      ],
      "metadata": {
        "id": "JCZ3mWDEYplT",
        "colab": {
          "base_uri": "https://localhost:8080/"
        },
        "outputId": "de669f37-17f7-4220-f8c9-445790cfd948"
      },
      "execution_count": 52,
      "outputs": [
        {
          "output_type": "stream",
          "name": "stdout",
          "text": [
            "{'when', 'you', 'of', 'about', 'am', 'very', 'now', 'were', 'above', 'in', 'below', 'they', 'himself', 'than', 'here', 'our', 'both', 'ourselves', 'if', 'and', 't', 'only', 'for', 's', 'out', 'have', 'same', 'own', 'no', 'good', 'few', 'some', 'a', 'each', 'such', 'should', 'did', 'where', 'which', 'while', 'during', 'what', 'to', 'being', 'over', 'all', 'morning', 'those', 'any', 'myself', 'was', 'yours', 'hers', 'other', 'under', 'ours', 'that', 'most', 'again', 'can', 'at', 'my', 'yourselves', 'an', 'them', 'this', 'will', 'does', 'been', 'his', 'too', 'on', 'him', 'who', 'further', 'between', 'are', 'with', 'because', 'theirs', 'these', 'more', 'it', 'your', 'until', 'why', 'just', 'had', 'into', 'herself', 'their', 'not', 'after', 'hello', 'its', 'before', 'her', 'yourself', 'is', 'off', 'then', 'or', 'themselves', 'down', 'year', 'once', 'half', 'up', 'against', 'itself', 'having', 'doing', 'so', 'the', 'whom', 'i', 'she', 'has', 'we', 'me', 'there', 'through', 'don', 'from', 'do', 'by', 'folks', 'be', 'he', 'how', 'as', 'but', 'nor'}\n"
          ]
        }
      ]
    },
    {
      "cell_type": "code",
      "source": [
        "# Create the list of words in the given sentence.\n",
        "sl=list(s.split())\n",
        "print(sl)"
      ],
      "metadata": {
        "id": "OG_iCUm9Yyx3",
        "colab": {
          "base_uri": "https://localhost:8080/"
        },
        "outputId": "53bc5167-4b26-445a-d33d-5b8eff6d954d"
      },
      "execution_count": 45,
      "outputs": [
        {
          "output_type": "stream",
          "name": "stdout",
          "text": [
            "['hello', 'everyone', 'i', 'hope', 'you', 'all', 'are', 'doing', 'well']\n",
            "['hello', 'everyone', 'i', 'hope', 'you', 'all', 'are', 'doing', 'well']\n"
          ]
        }
      ]
    },
    {
      "cell_type": "code",
      "source": [
        "# Use list comprehension to remove the set of updated stop words from the list of words\n",
        "j=[i for i in sl if i not in stop_words]\n",
        "print(j)"
      ],
      "metadata": {
        "id": "Kk665UtXY3UH",
        "colab": {
          "base_uri": "https://localhost:8080/"
        },
        "outputId": "4388d2b3-cff4-44e1-a7a7-2d7a9065413b"
      },
      "execution_count": 54,
      "outputs": [
        {
          "output_type": "stream",
          "name": "stdout",
          "text": [
            "['everyone', 'hope', 'well']\n"
          ]
        }
      ]
    },
    {
      "cell_type": "code",
      "source": [
        "# Finally using the join() method, get the sentence without the stop words. Keep in mind that every word in the sentence will be separated by space\n",
        "sp=\" \"\n",
        "st=sp.join(j)\n",
        "# Print the modified sentence\n",
        "print(st)"
      ],
      "metadata": {
        "id": "RzO-jDZVY6wD",
        "colab": {
          "base_uri": "https://localhost:8080/"
        },
        "outputId": "ec7e1aff-97ef-4a5a-8e5a-6f2694da59df"
      },
      "execution_count": 62,
      "outputs": [
        {
          "output_type": "stream",
          "name": "stdout",
          "text": [
            "everyone hope well\n"
          ]
        }
      ]
    }
  ]
}